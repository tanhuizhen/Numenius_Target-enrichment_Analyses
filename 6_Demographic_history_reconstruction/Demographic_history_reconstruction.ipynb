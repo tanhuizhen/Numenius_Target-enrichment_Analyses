{
 "cells": [
  {
   "cell_type": "markdown",
   "id": "3b1eb2c3-8794-4360-a42f-82f560c72b07",
   "metadata": {},
   "source": [
    "Calculate folded site frequency spectrum"
   ]
  },
  {
   "cell_type": "code",
   "execution_count": null,
   "id": "93dd264b-7e41-45fe-93ef-07454e911e3b",
   "metadata": {},
   "outputs": [],
   "source": [
    "python vcf2sfs.py \\\n",
    "-i population.recode.vcf \\\n",
    "-o population \\\n",
    "-p sampleList.txt"
   ]
  },
  {
   "cell_type": "markdown",
   "id": "4ac0d11d-4c92-4c84-8af2-b746d4694350",
   "metadata": {},
   "source": [
    "Run stairway plot"
   ]
  },
  {
   "cell_type": "code",
   "execution_count": null,
   "id": "9e0e2df4-e08d-41dc-a188-d32567c3a8fd",
   "metadata": {},
   "outputs": [],
   "source": [
    "java -cp stairway_plot_es Stairbuilder population.blueprint\n",
    "bash nume_b21-MAF2.blueprint.sh"
   ]
  }
 ],
 "metadata": {
  "kernelspec": {
   "display_name": "Python 3 (ipykernel)",
   "language": "python",
   "name": "python3"
  },
  "language_info": {
   "codemirror_mode": {
    "name": "ipython",
    "version": 3
   },
   "file_extension": ".py",
   "mimetype": "text/x-python",
   "name": "python",
   "nbconvert_exporter": "python",
   "pygments_lexer": "ipython3",
   "version": "3.10.11"
  }
 },
 "nbformat": 4,
 "nbformat_minor": 5
}
