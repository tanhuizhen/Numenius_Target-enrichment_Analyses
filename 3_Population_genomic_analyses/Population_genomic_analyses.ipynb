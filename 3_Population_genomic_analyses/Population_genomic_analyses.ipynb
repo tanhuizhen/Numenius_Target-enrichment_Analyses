{
 "cells": [
  {
   "cell_type": "markdown",
   "id": "b2220f9b-3700-475b-93cc-af81baa1ae35",
   "metadata": {},
   "source": [
    "Principal component analysis (PCA) (using R)\n"
   ]
  },
  {
   "cell_type": "code",
   "execution_count": null,
   "id": "ebf4025b-98ea-4400-aab7-ea654ba863cb",
   "metadata": {},
   "outputs": [],
   "source": [
    "library(SNPRelate)\n",
    "\n",
    "# input Plink files\n",
    "bed.fn <- \"snp_randSNPs-plink.bed\"\n",
    "fam.fn <- \"snp_randSNPs-plink.fam\"\n",
    "bim.fn <- \"snp_randSNPs-plink.bim\"\n",
    "snpgdsBED2GDS(bed.fn, fam.fn, bim.fn, \"snp_randSNPs.gds\")\n",
    "snp_randSNPs <- snpgdsOpen(\"snp_randSNPs.gds\")\n",
    "\n",
    "# run PCA\n",
    "pca <- snpgdsPCA(snp_randSNPs, autosome.only=FALSE, num.thread=2)\n",
    "\n",
    "# variance proportion (%), list proportions round to 2dp (2)\n",
    "pc.percent <- pca$varprop*100\n",
    "head(round(pc.percent, 2))\n",
    "\n",
    "# make a dataframe\n",
    "# EV1 and EV2 to plot the first and second eigenvectors\n",
    "tab <- data.frame(sample.id = pca$sample.id, EV1 = pca$eigenvect[,1], EV2 = pca$eigenvect[,2], stringsAsFactors = FALSE)\n",
    "\n",
    "# plot\n",
    "plot(tab$EV2, tab$EV1, xlab=\"eigenvector 2\", ylab=\"eigenvector 1\")"
   ]
  }
 ],
 "metadata": {
  "kernelspec": {
   "display_name": "Python 3 (ipykernel)",
   "language": "python",
   "name": "python3"
  },
  "language_info": {
   "codemirror_mode": {
    "name": "ipython",
    "version": 3
   },
   "file_extension": ".py",
   "mimetype": "text/x-python",
   "name": "python",
   "nbconvert_exporter": "python",
   "pygments_lexer": "ipython3",
   "version": "3.10.11"
  }
 },
 "nbformat": 4,
 "nbformat_minor": 5
}
