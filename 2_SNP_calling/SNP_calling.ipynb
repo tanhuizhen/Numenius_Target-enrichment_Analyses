{
 "cells": [
  {
   "cell_type": "markdown",
   "id": "236849ee-5636-4e54-b748-0f4d89517c7d",
   "metadata": {},
   "source": [
    "# Content\n",
    "1. [Alignment](#alignment)\n",
    "2. [SNP calling](#snpcalling)"
   ]
  },
  {
   "cell_type": "markdown",
   "id": "e9950a28-dd3b-4891-92a0-a2f23cbfd8d7",
   "metadata": {},
   "source": [
    "## 1. Alignment <a id='alignment'></a>"
   ]
  },
  {
   "cell_type": "markdown",
   "id": "b227ff4d-1471-4a3c-8026-5592914a1e84",
   "metadata": {},
   "source": [
    "Align reads to target sequences"
   ]
  },
  {
   "cell_type": "code",
   "execution_count": null,
   "id": "13349771-9a69-4b6d-a38d-aa8f32989211",
   "metadata": {},
   "outputs": [],
   "source": [
    "bwa mem -t 12 -M targetSequence.fasta \\\n",
    "read_1_repaired.fastq.gz\n",
    "read_2_repaired.fastq.gz \\\n",
    "> sample.sam"
   ]
  },
  {
   "cell_type": "markdown",
   "id": "4746910e-b58d-4854-981f-3fb9ff96ebe3",
   "metadata": {},
   "source": [
    "Convert alignment format"
   ]
  },
  {
   "cell_type": "code",
   "execution_count": null,
   "id": "a0f6cbc4-3a6e-4571-be09-20b1f9da7367",
   "metadata": {},
   "outputs": [],
   "source": [
    "samtools view -bShq 20 sample.sam > sample.bam"
   ]
  },
  {
   "cell_type": "markdown",
   "id": "0a3fec44-58b3-48d8-b8ba-acef00c5d798",
   "metadata": {},
   "source": [
    "Sort alignment"
   ]
  },
  {
   "cell_type": "code",
   "execution_count": null,
   "id": "fdeaa009-fcaa-4867-bed2-80e448d6535a",
   "metadata": {},
   "outputs": [],
   "source": [
    "samtools sort -m 4G -@ 8 -o sample-sort.bam sample.bam"
   ]
  },
  {
   "cell_type": "markdown",
   "id": "c00260ef-bd6e-4a0c-b4d6-7a20232447e8",
   "metadata": {},
   "source": [
    "Add read group information"
   ]
  },
  {
   "cell_type": "code",
   "execution_count": null,
   "id": "bd3880ab-c0f3-4328-bac1-f06990c7bf6e",
   "metadata": {},
   "outputs": [],
   "source": [
    "java -jar picard.jar \\\n",
    "AddOrReplaceReadGroups \\\n",
    "I=sample-sort.bam O=sample-addRG.bam \\\n",
    "RGID=lane+flowcell RGLB=sample RGPL=illumina RGPU=lane+flowcell+adaptor RGSM=sample"
   ]
  },
  {
   "cell_type": "markdown",
   "id": "14421c0e-15b1-4c17-b97c-45e1a7dcd9cb",
   "metadata": {},
   "source": [
    "Mark duplicates"
   ]
  },
  {
   "cell_type": "code",
   "execution_count": null,
   "id": "70a6688c-586f-4955-9413-ffbbb563d742",
   "metadata": {},
   "outputs": [],
   "source": [
    "java -jar picard.jar MarkDuplicates \\\n",
    "I=sample-addRG.bam \\\n",
    "O=sample-markDup.bam \\\n",
    "M=sample-markDup.txt \\\n",
    "MAX_RECORDS_IN_RAM=300000 \\\n",
    "USE_JDK_DEFLATER=TRUE \\\n",
    "USE_JDK_INFLATER=TRUE \\\n",
    "MAX_FILE_HANDLES_FOR_READ_ENDS_MAP=2000 \\\n",
    "REMOVE_DUPLICATES=TRUE"
   ]
  },
  {
   "cell_type": "markdown",
   "id": "c5a0862c-1922-4408-88df-34d6a5be186a",
   "metadata": {},
   "source": [
    "Index alignment"
   ]
  },
  {
   "cell_type": "code",
   "execution_count": null,
   "id": "9cc2d7ff-1aaf-4e40-a9de-215278554e62",
   "metadata": {
    "tags": []
   },
   "outputs": [],
   "source": [
    "java -jar picard.jar BuildBamIndex \\\n",
    "I=sample"
   ]
  },
  {
   "cell_type": "markdown",
   "id": "478d2582-86c5-47b7-89a2-dac929aacbcd",
   "metadata": {},
   "source": [
    "Index target sequences"
   ]
  },
  {
   "cell_type": "code",
   "execution_count": null,
   "id": "8f052541-0c24-48a8-a7c4-ee20a0ffb164",
   "metadata": {},
   "outputs": [],
   "source": [
    "samtools faidx targetSequence.fasta"
   ]
  },
  {
   "cell_type": "markdown",
   "id": "877cf20b-ee0a-43a4-9506-bbdd2bc4b5d2",
   "metadata": {},
   "source": [
    "Create sequence directory"
   ]
  },
  {
   "cell_type": "code",
   "execution_count": null,
   "id": "d8da7e87-3a74-44cb-8ea5-a36f1e446a03",
   "metadata": {},
   "outputs": [],
   "source": [
    "java -jar picard.jar CreateSequenceDictionary \\\n",
    "R=targetSequence.fasta \\\n",
    "O=targetSequence.dict"
   ]
  },
  {
   "cell_type": "markdown",
   "id": "586181e4-c72f-4f5c-ae43-0cd368bd54f8",
   "metadata": {},
   "source": [
    "Create realigner target"
   ]
  },
  {
   "cell_type": "code",
   "execution_count": null,
   "id": "d254dde9-92c9-4f89-8fa4-d19f5f51b641",
   "metadata": {},
   "outputs": [],
   "source": [
    "java -jar GenomeAnalysisTK.jar \\\n",
    "-T RealignerTargetCreator -nt 12 \\\n",
    "-R targetSequence.fasta \\\n",
    "-I list-of-sample-markDup.bam-files.list \\\n",
    "-o batch.intervals"
   ]
  },
  {
   "cell_type": "markdown",
   "id": "754e4f2b-21a5-4a9b-a7d1-4ea4b21144e5",
   "metadata": {},
   "source": [
    "Realign indel"
   ]
  },
  {
   "cell_type": "code",
   "execution_count": null,
   "id": "4bfa7a41-ef5a-48d6-843d-acd2ebc1ad41",
   "metadata": {},
   "outputs": [],
   "source": [
    "java -Xmx8G -Djava.io.tmpdir=/tmp \\\n",
    "-jar GenomeAnalysisTK.jar \\\n",
    "-T IndelRealigner \\\n",
    "-R targetSequence.fasta \\\n",
    "-targetIntervals batch.intervals \\\n",
    "-I list-of-sample-markDup.bam-files.list \\\n",
    "-nWayOut list-of-output-paths.map"
   ]
  },
  {
   "cell_type": "markdown",
   "id": "6fe61eec-ea79-4817-8b39-39e321f9b97b",
   "metadata": {},
   "source": [
    "Inspect ancient DNA damage"
   ]
  },
  {
   "cell_type": "code",
   "execution_count": null,
   "id": "2e771814-d0e2-443a-a120-7d24080d49e1",
   "metadata": {},
   "outputs": [],
   "source": [
    "mapDamage -i sample-markDup.bam \\\n",
    "-r targetSequence.fasta \\\n",
    "-d sample \\\n",
    "--rescale --merge-reference-sequences -y 0.2 --threads 6"
   ]
  },
  {
   "cell_type": "markdown",
   "id": "f55a9a56-1eed-4144-85f2-86dc43a0d0b0",
   "metadata": {},
   "source": [
    "Trim sequences to remove damaged bases (e.g. 1bp from both ends)"
   ]
  },
  {
   "cell_type": "code",
   "execution_count": null,
   "id": "35ea05ce-b600-4ef5-afcb-b2846a5e8cdb",
   "metadata": {},
   "outputs": [],
   "source": [
    "fastp \\\n",
    "--in1 read_1_fastuniq.tagged_filter.fastq.gz \\\n",
    "--in2 read_2_fastuniq.tagged_filter.fastq.gz \\\n",
    "--out1 read_1_trim1.fq.gz --out2 read_2_trim1.fq.gz \\\n",
    "-t 1 -F 1 -q 20"
   ]
  },
  {
   "cell_type": "markdown",
   "id": "b27a8c07-5d13-4f19-a8b9-4954e8dd4843",
   "metadata": {
    "tags": []
   },
   "source": [
    "Check alignment quality"
   ]
  },
  {
   "cell_type": "code",
   "execution_count": null,
   "id": "4fca65e9-2846-444a-b40b-0dbeeb00b589",
   "metadata": {},
   "outputs": [],
   "source": [
    "qualimap bamqc \\\n",
    "-bam sample-realigned.bam \\\n",
    "-outdir sample \\\n",
    "-outfile sample -outformat html \\\n",
    "-ip -sd -nt 12"
   ]
  },
  {
   "cell_type": "markdown",
   "id": "3f122cd7-b288-4425-8cd9-f689b3b44201",
   "metadata": {},
   "source": [
    "## 2. SNP calling <a id='snpcalling'></a>"
   ]
  },
  {
   "cell_type": "markdown",
   "id": "23762dd6-979b-482d-9211-df43c19bb9b3",
   "metadata": {},
   "source": [
    "Generate alignment likelihoods and call SNPs"
   ]
  },
  {
   "cell_type": "code",
   "execution_count": null,
   "id": "7c163cbf-42f9-4046-a879-a903b4cadc1c",
   "metadata": {},
   "outputs": [],
   "source": [
    "bcftools mpileup -Ou --skip-indels \\\n",
    "-a FORMAT/DP,INFO/DPR,FORMAT/DV,FORMAT/DP4,FORMAT/DPR,FORMAT/SP,FORMAT/AD,FORMAT/ADF,FORMAT/ADR,INFO/AD,INFO/ADF,INFO/ADR \\\n",
    "-f targetSequence.fasta \\\n",
    "-b bam.list | \\\n",
    "bcftools call -mv -Ov -o snp.vcf"
   ]
  },
  {
   "cell_type": "markdown",
   "id": "667cbe19-bafb-41f3-b0ed-066a24a33f63",
   "metadata": {},
   "source": [
    "Filter SNPs"
   ]
  },
  {
   "cell_type": "code",
   "execution_count": null,
   "id": "59027447-ab63-4b5f-b61e-b42965f6b658",
   "metadata": {},
   "outputs": [],
   "source": [
    "vcftools --vcf snp.vcf --minQ 30 --recode --recode-INFO-all --out snp-1\n",
    "vcftools --vcf snp-1.vcf --min-meanDP 30 --max-meanDP 150 --recode --recode-INFO-all --out snp-2\n",
    "vcftools --vcf snp-2.vcf --maf 0.02 --recode --recode-INFO-all --out snp-3\n",
    "vcftools --vcf snp-3.vcf --max-missing 0.95 --recode --recode-INFO-all --out snp-4"
   ]
  },
  {
   "cell_type": "markdown",
   "id": "51fe4d12-a7e6-4795-ada0-1754a6aa0308",
   "metadata": {},
   "source": [
    "Call one SNP per locus"
   ]
  },
  {
   "cell_type": "code",
   "execution_count": null,
   "id": "facc10cd-0610-4755-8ee5-0e45bd528745",
   "metadata": {},
   "outputs": [],
   "source": [
    "perl randSnps.pl \\\n",
    "< snp-4.vcf > \\\n",
    "snp_randSnps.vcf"
   ]
  },
  {
   "cell_type": "markdown",
   "id": "1be13b25-9f0c-469c-bc93-e95c0effb002",
   "metadata": {},
   "source": [
    "Screen SNPs for linkage disequilibrium"
   ]
  },
  {
   "cell_type": "code",
   "execution_count": null,
   "id": "1bfa2a0e-8829-43d7-b5df-8496ba7bf1fc",
   "metadata": {
    "tags": []
   },
   "outputs": [],
   "source": [
    "plink --vcf snp_randSNPs.vcf --allow-no-sex --allow-extra-chr --indep-pairwise 50 10 0.9\n",
    "plink --vcf snp_randSNPs.vcf --extract plink.prune.in --allow-extra-chr --make-bed --out snp_randSNPs-prune\n",
    "plink --bfile snp_randSNPs-prune --allow-extra-chr --recode vcf --out snp_randSNPs-plink"
   ]
  },
  {
   "cell_type": "markdown",
   "id": "1a69f229-2c49-4fec-8297-80f4d14bfc29",
   "metadata": {},
   "source": [
    "Screen SNPs for neutrality"
   ]
  },
  {
   "cell_type": "code",
   "execution_count": null,
   "id": "9f1edd5a-b1f0-47a7-a0ca-625cbb31b3ca",
   "metadata": {},
   "outputs": [],
   "source": [
    "BayeScan2.1_linux64bits \\\n",
    "snp_randSNPs-plink \\\n",
    "-od path/to/output"
   ]
  }
 ],
 "metadata": {
  "kernelspec": {
   "display_name": "Python 3 (ipykernel)",
   "language": "python",
   "name": "python3"
  },
  "language_info": {
   "codemirror_mode": {
    "name": "ipython",
    "version": 3
   },
   "file_extension": ".py",
   "mimetype": "text/x-python",
   "name": "python",
   "nbconvert_exporter": "python",
   "pygments_lexer": "ipython3",
   "version": "3.10.11"
  }
 },
 "nbformat": 4,
 "nbformat_minor": 5
}
