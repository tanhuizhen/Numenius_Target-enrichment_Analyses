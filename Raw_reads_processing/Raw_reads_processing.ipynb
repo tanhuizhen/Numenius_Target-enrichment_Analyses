{
 "cells": [
  {
   "cell_type": "markdown",
   "id": "b1c4c08c-f46a-44a4-8756-f76aec4fbe62",
   "metadata": {},
   "source": [
    "Sequence quality check"
   ]
  },
  {
   "cell_type": "code",
   "execution_count": null,
   "id": "6a05c11d-fa2f-491f-9a71-a442b48a8b55",
   "metadata": {},
   "outputs": [],
   "source": [
    "fastqc *.fq.gz --outdir=/output/path"
   ]
  },
  {
   "cell_type": "markdown",
   "id": "799a128f-7b45-42b5-b219-2c840d80ed98",
   "metadata": {},
   "source": [
    "Sequence trimming"
   ]
  },
  {
   "cell_type": "code",
   "execution_count": null,
   "id": "4004df1b-b82e-4887-bf62-a51c7545415f",
   "metadata": {},
   "outputs": [],
   "source": [
    "fastp \\\n",
    "--in1 read_1.fq.gz --in2 read_2.fq.gz --out1 read_1_fastp.fq.gz --out2 read_2_fastp.fq.gz \\\n",
    "--html read.html --unpaired1 read_1_unpaired.fq.gz --unpaired2 read_2_unpaired.fq.gz --failed_out read_failed.fq.gz \\\n",
    "-q 20 -u 0 -l 36 -y --cut_front --cut_front_window_size 1 --cut_front_mean_quality 20 \\\n",
    "--cut_right --cut_right_window_size 5 --cut_right_mean_quality 20 --trim_poly_g --trim_poly_x \\\n",
    "--adapter_fasta adapters.fa"
   ]
  },
  {
   "cell_type": "markdown",
   "id": "4b56d884-30d7-44b9-bfc0-e03f4d58de7b",
   "metadata": {},
   "source": [
    "Duplicate removal"
   ]
  },
  {
   "cell_type": "code",
   "execution_count": null,
   "id": "7fcc7034-8394-4336-af0f-48ed96ee418c",
   "metadata": {},
   "outputs": [],
   "source": [
    "fastuniq -i reads.txt -t q \\\n",
    "-o read_1_fastuniq.fastq \\\n",
    "-p read_2_fastuniq.fastq"
   ]
  },
  {
   "cell_type": "markdown",
   "id": "06b2bd6e-1a68-4fb7-b5d2-548d675eeef3",
   "metadata": {
    "tags": []
   },
   "source": [
    "Contamination screening"
   ]
  },
  {
   "cell_type": "code",
   "execution_count": null,
   "id": "dfdde42b-52f1-4747-9d27-192362d61d0f",
   "metadata": {},
   "outputs": [],
   "source": [
    "fastq_screen --conf 'fastqscreen-configuration-file.conf' \\\n",
    "--tag --filter 300 read_1_fastuniq.fastq.gz read_2_fastuniq.fastq.gz \\\n",
    "--outdir '/output/path'"
   ]
  },
  {
   "cell_type": "markdown",
   "id": "f6776774-b6e6-4289-843a-2491134d34bf",
   "metadata": {},
   "source": [
    "Re-pair reads"
   ]
  },
  {
   "cell_type": "code",
   "execution_count": null,
   "id": "020ead37-7f19-48f0-8ed3-a59afe1614cc",
   "metadata": {},
   "outputs": [],
   "source": [
    "repair.sh \\\n",
    "in=read_1_fastuniq.tagged_filter.fastq.gz \\\n",
    "in2=read_2_fastuniq.tagged_filter.fastq.gz \\\n",
    "out=read_1_repaired.fastq.gz \\\n",
    "out2=read_2_repaired.fastq.gz \\\n",
    "outs=read_singleton.fastq.gz"
   ]
  }
 ],
 "metadata": {
  "kernelspec": {
   "display_name": "Python 3 (ipykernel)",
   "language": "python",
   "name": "python3"
  },
  "language_info": {
   "codemirror_mode": {
    "name": "ipython",
    "version": 3
   },
   "file_extension": ".py",
   "mimetype": "text/x-python",
   "name": "python",
   "nbconvert_exporter": "python",
   "pygments_lexer": "ipython3",
   "version": "3.10.10"
  }
 },
 "nbformat": 4,
 "nbformat_minor": 5
}
