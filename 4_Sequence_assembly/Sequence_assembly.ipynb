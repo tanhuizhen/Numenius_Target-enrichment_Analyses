{
 "cells": [
  {
   "cell_type": "markdown",
   "id": "916d4bf6-c7cc-444f-9610-35b63f360b9c",
   "metadata": {},
   "source": [
    "Assemble reads to yield sequence loci"
   ]
  },
  {
   "cell_type": "code",
   "execution_count": null,
   "id": "a416423d-d698-4c51-adb4-b961d9b6723a",
   "metadata": {},
   "outputs": [],
   "source": [
    "while read name; \n",
    "do python reads_first.py \\\n",
    "-b targetSequence.fasta \\\n",
    "-r $name*.fastq \\\n",
    "--prefix $name --bwa --cov_cutoff 20; done < listOfSampleNames.txt"
   ]
  },
  {
   "cell_type": "markdown",
   "id": "469e2169-7374-4d8e-be4b-c271b2c600fb",
   "metadata": {},
   "source": [
    "Inspect locus lengths"
   ]
  },
  {
   "cell_type": "code",
   "execution_count": null,
   "id": "92165122-3c75-4493-ae67-70d1793ce082",
   "metadata": {},
   "outputs": [],
   "source": [
    "python get_seq_lengths.py \\\n",
    "targetSequence.fasta \\\n",
    "listOfSampleNames.txt dna > gene_lengths.txt"
   ]
  },
  {
   "cell_type": "markdown",
   "id": "fb49eb91-7165-48da-8582-9d9b15ad732b",
   "metadata": {},
   "source": [
    "Inspect recovery efficiency"
   ]
  },
  {
   "cell_type": "code",
   "execution_count": null,
   "id": "74609df8-ae22-4bb4-9b16-9a95bca1c156",
   "metadata": {},
   "outputs": [],
   "source": [
    "python hybpiper_stats.py \\\n",
    "gene_lengths.txt listOfSampleNames.txt > stats.txt"
   ]
  },
  {
   "cell_type": "markdown",
   "id": "6283a914-6e64-46c9-9d79-a51a660a057a",
   "metadata": {},
   "source": [
    "Investigate potentially paralogous loci"
   ]
  },
  {
   "cell_type": "code",
   "execution_count": null,
   "id": "5510854b-8cbe-49e4-99ef-d697faad2010",
   "metadata": {},
   "outputs": [],
   "source": [
    "# report the number of paralogs for each gene\n",
    "while read i\n",
    "do\n",
    "echo $i\n",
    "python paralog_investigator.py $i\n",
    "done < listOfSampleNames.txt\n",
    "\n",
    "# build gene tree to check if two sequences are paralogs\n",
    "python paralog_retriever.py \\\n",
    "listOfSampleNames.txt gene1 | mafft --auto - | FastTree -nt -gtr > gene1.paralogs.tre"
   ]
  },
  {
   "cell_type": "markdown",
   "id": "5d58e89c-23a2-4244-b332-061ccf582784",
   "metadata": {},
   "source": [
    "Retrieve sequence of same gene from all samples"
   ]
  },
  {
   "cell_type": "code",
   "execution_count": null,
   "id": "ccae924d-a82c-4533-85ea-63869cd91746",
   "metadata": {},
   "outputs": [],
   "source": [
    "python retrieve_sequences.py \\\n",
    "targetSequence.fasta \\\n",
    "/path/to/sequences dna"
   ]
  }
 ],
 "metadata": {
  "kernelspec": {
   "display_name": "Python 3 (ipykernel)",
   "language": "python",
   "name": "python3"
  },
  "language_info": {
   "codemirror_mode": {
    "name": "ipython",
    "version": 3
   },
   "file_extension": ".py",
   "mimetype": "text/x-python",
   "name": "python",
   "nbconvert_exporter": "python",
   "pygments_lexer": "ipython3",
   "version": "3.10.11"
  }
 },
 "nbformat": 4,
 "nbformat_minor": 5
}
