{
 "cells": [
  {
   "cell_type": "markdown",
   "id": "35c39689-d698-4c5e-8460-c31618148acb",
   "metadata": {},
   "source": [
    "Perform multisequence alignment"
   ]
  },
  {
   "cell_type": "code",
   "execution_count": null,
   "id": "3a0ace91-6db9-4a4d-8ff8-c642a75aa0d3",
   "metadata": {},
   "outputs": [],
   "source": [
    "for fname in *.FNA\n",
    "do\n",
    "base=${fname%.FNA*}\n",
    "mafft --adjustdirection --thread 10 ./${base}.FNA \\\n",
    "> ${base}.fas; done"
   ]
  },
  {
   "cell_type": "markdown",
   "id": "48fb1124-44ec-45a9-b6c7-ee7456e0fb8e",
   "metadata": {},
   "source": [
    "Quantify proportion of alignment gaps"
   ]
  },
  {
   "cell_type": "code",
   "execution_count": null,
   "id": "a8addd94-3947-4ea8-a703-f735453d0bf6",
   "metadata": {},
   "outputs": [],
   "source": [
    "for fname in *.fas\n",
    "do\n",
    "base=${fname%.fas*}\n",
    "grep -o '-' ${base}.fas | wc -l > ./gapcount/${base}.txt\n",
    "wc -m ${base}.fas > ./sumcount/${base}.txt\n",
    "done"
   ]
  },
  {
   "cell_type": "markdown",
   "id": "222af1ab-60d9-4d76-a234-b978bdc74bb6",
   "metadata": {},
   "source": [
    "Concatenate genes"
   ]
  },
  {
   "cell_type": "code",
   "execution_count": null,
   "id": "5432d0a0-0f6d-41d8-8299-daaf70a62e0b",
   "metadata": {},
   "outputs": [],
   "source": [
    "java -jar 'abioscripts.jar' \\\n",
    "--seqconcat \\\n",
    "--filenames *.fas \\\n",
    "--outputfile /path/to/outputs"
   ]
  },
  {
   "cell_type": "markdown",
   "id": "4574a856-dba1-4692-89b0-1c6cd6ab7baf",
   "metadata": {},
   "source": [
    "Tree construction for concatenated dataset"
   ]
  },
  {
   "cell_type": "code",
   "execution_count": null,
   "id": "155a62cc-0549-410c-b0d2-ac30dd98f57b",
   "metadata": {},
   "outputs": [],
   "source": [
    "raxmlHPC-PTHREADS \\\n",
    "-s concat.phylip \\\n",
    "-n concat \\\n",
    "-m GTRGAMMAI -N 100 -T 16 -p 71051 -f a -x 72855 -o outgroup"
   ]
  },
  {
   "cell_type": "markdown",
   "id": "57162542-ad8c-408c-8822-6fb4dd6789db",
   "metadata": {},
   "source": [
    "Tree construction for individual gene trees"
   ]
  },
  {
   "cell_type": "code",
   "execution_count": null,
   "id": "2b72385e-d253-436e-9302-b3a4882b16bc",
   "metadata": {},
   "outputs": [],
   "source": [
    "# determine best substitution model for each locus\n",
    "for fname in *.fas\n",
    "do\n",
    "base=${fname%.fas*}\n",
    "java -jar jModelTest.jar \\\n",
    "-d ${base}.fas \\\n",
    "-f -i -g 4 -s 3 -AICc -a -tr 16 \\\n",
    "-n ${base} \\\n",
    "-o ${base}.out\n",
    "done\n",
    "\n",
    "# convert alignment to PHYLIP/NEXUS format\n",
    "for fname in *.fas\n",
    "do\n",
    "base=${fname%.fas}\n",
    "perl fasta2relaxedPhylip.pl \\\n",
    "-f ${base}.fas \\\n",
    "-o ${base}.phylip\n",
    "done\n",
    "\n",
    "# construct gene tree\n",
    "PhyML-3.1_macOS-MountainLion \\\n",
    "-i gene.phylip -b 100 -m substitutionModel \\\n",
    "-v e -a e -s SPR --rand_start --n_rand_starts 20 --r_seed 2345 \\\n",
    "--no_memory_check"
   ]
  },
  {
   "cell_type": "markdown",
   "id": "1e84d060-8eb8-459f-a2c4-62ed28578dbc",
   "metadata": {},
   "source": [
    "Root individual gene trees"
   ]
  },
  {
   "cell_type": "code",
   "execution_count": null,
   "id": "cf3770d6-8267-43f1-8820-23d590cd1cb4",
   "metadata": {},
   "outputs": [],
   "source": [
    "nw_reroot \\\n",
    "geneTree.phylip_phyml_tree.txt \\\n",
    "outgroup > gene-reroot.txt"
   ]
  },
  {
   "cell_type": "markdown",
   "id": "3e3b27ca-a760-430a-a82d-e05afd0bdc63",
   "metadata": {},
   "source": [
    "Tree constructon for species tree"
   ]
  },
  {
   "cell_type": "code",
   "execution_count": null,
   "id": "71b4a08a-c347-4a40-8946-09d0b233a9c5",
   "metadata": {},
   "outputs": [],
   "source": [
    "# combine rooted gene trees into a single file and remove names of interior nodes\n",
    "mpest controlFile\n",
    "\n",
    "# multi-locus, site-only resampling of bootstrap trees\n",
    "multilocus_bootstrap_new.sh \\\n",
    "100 \\\n",
    "path/PhyML/bootstrapTrees \\\n",
    "boot_trees.txt \\\n",
    "path/mpest/bootstrapTrees \\\n",
    "BS \\\n",
    "site \\\n",
    "-"
   ]
  },
  {
   "cell_type": "markdown",
   "id": "9b73c7b5-e399-42f5-bdad-f4e5185244a6",
   "metadata": {},
   "source": [
    "Estimate divergence time"
   ]
  },
  {
   "cell_type": "code",
   "execution_count": null,
   "id": "88524867-930b-45a1-9a41-7097d8250507",
   "metadata": {},
   "outputs": [],
   "source": [
    "# calculate gradient and Hessian matrix of the branch lengths\n",
    "mcmctree mcmctree-outBV.ctl\n",
    "\n",
    "# sample posterior distribution of times and rates\n",
    "mcmctree mcmctree.ctl\n",
    "\n",
    "# perform convergence diagnostics across runs (in R)\n",
    "\n",
    "# mcmc sampling from prior with no data\n",
    "mcmctree mcmctree-pr.ctl\n"
   ]
  }
 ],
 "metadata": {
  "kernelspec": {
   "display_name": "Python 3 (ipykernel)",
   "language": "python",
   "name": "python3"
  },
  "language_info": {
   "codemirror_mode": {
    "name": "ipython",
    "version": 3
   },
   "file_extension": ".py",
   "mimetype": "text/x-python",
   "name": "python",
   "nbconvert_exporter": "python",
   "pygments_lexer": "ipython3",
   "version": "3.10.11"
  }
 },
 "nbformat": 4,
 "nbformat_minor": 5
}
